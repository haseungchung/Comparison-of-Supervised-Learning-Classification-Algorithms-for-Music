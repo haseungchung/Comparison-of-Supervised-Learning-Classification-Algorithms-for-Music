{
  "nbformat": 4,
  "nbformat_minor": 0,
  "metadata": {
    "colab": {
      "name": "Copy of BinaryKeyVector_GAN_v3_DenseWNoise_Stable.ipynb",
      "provenance": [],
      "collapsed_sections": [],
      "include_colab_link": true
    },
    "kernelspec": {
      "name": "python3",
      "display_name": "Python 3"
    },
    "accelerator": "GPU"
  },
  "cells": [
    {
      "cell_type": "markdown",
      "metadata": {
        "id": "view-in-github",
        "colab_type": "text"
      },
      "source": [
        "<a href=\"https://colab.research.google.com/github/haseungchung/Machine-Learning-and-Deep-Learning-Projects/blob/main/Adversarial%20Autoencoder%20(GAN%20%2B%20Autoencoder)%20Network%20for%20Achieving%20Communication%20Signal%20Encryption/Adversarial%20Autoencoder%20(GAN%20%2B%20Autoencoder)%20Network%20for%20Achieving%20Communication%20Signal%20Encryption_Stable.ipynb\" target=\"_parent\"><img src=\"https://colab.research.google.com/assets/colab-badge.svg\" alt=\"Open In Colab\"/></a>"
      ]
    },
    {
      "cell_type": "code",
      "metadata": {
        "id": "5d_aReqbSa5W"
      },
      "source": [
        "# coding: utf-8\n",
        "\n",
        "# importing libs\n",
        "import numpy as np\n",
        "import tensorflow as tf\n",
        "import keras\n",
        "import pandas as pd\n",
        "import openpyxl\n",
        "import sys\n",
        "import matplotlib\n",
        "import matplotlib.pyplot as plt\n",
        "from openpyxl.reader.excel import load_workbook\n",
        "from numpy.linalg import norm\n",
        "from keras.layers import Input, Dense, GaussianNoise,Lambda,Dropout\n",
        "from keras.models import Model\n",
        "from keras.constraints import max_norm\n",
        "from keras import regularizers\n",
        "from tensorflow.keras.layers import BatchNormalization\n",
        "from tensorflow.keras.optimizers import Adam,SGD, RMSprop\n",
        "from keras import backend as K\n",
        "from keras.models import load_model\n",
        "from keras.layers.core import Activation\n",
        "from keras.layers import Flatten, Reshape\n",
        "from keras.layers.convolutional import Conv1D\n",
        "from keras.layers.merge import concatenate\n",
        "from google.colab import files"
      ],
      "execution_count": 1,
      "outputs": []
    },
    {
      "cell_type": "code",
      "metadata": {
        "id": "gw0MOCxYSttT"
      },
      "source": [
        "# for reproducing result\n",
        "from numpy.random import seed\n",
        "seed(1)\n",
        "tf.random.set_seed(3)"
      ],
      "execution_count": 2,
      "outputs": []
    },
    {
      "cell_type": "code",
      "source": [
        "device_name = tf.test.gpu_device_name()\n",
        "if device_name != '/device:GPU:0':\n",
        "  raise SystemError('GPU device not found')\n",
        "print('Found GPU at: {}'.format(device_name))"
      ],
      "metadata": {
        "colab": {
          "base_uri": "https://localhost:8080/"
        },
        "id": "LTsct3Pp_XYL",
        "outputId": "f0c8c489-3d64-4e30-ee53-42de23a72099"
      },
      "execution_count": 3,
      "outputs": [
        {
          "output_type": "stream",
          "name": "stdout",
          "text": [
            "Found GPU at: /device:GPU:0\n"
          ]
        }
      ]
    },
    {
      "cell_type": "code",
      "source": [
        "M = 4 # number of possible messages\n",
        "key = 8 # number of bits for key\n",
        "k = np.log2(M)\n",
        "k = int(k) # number of bits required to give the message\n",
        "n_channel = 2\n",
        "R = k/n_channel\n",
        "lr=np.array([0.005])\n",
        "prop=np.array([300])\n",
        "max_val=1\n",
        "print ('M:',M,'\\nkey:',key)\n",
        "\n",
        "# Compute the size of the message space, used later in training\n",
        "m_train = 16\n",
        "EbNo_train = 10 #10dB"
      ],
      "metadata": {
        "colab": {
          "base_uri": "https://localhost:8080/"
        },
        "id": "QIN0y_NXcfkl",
        "outputId": "27a63d6e-0d2b-4dda-92df-7294d038af1b"
      },
      "execution_count": 4,
      "outputs": [
        {
          "output_type": "stream",
          "name": "stdout",
          "text": [
            "M: 4 \n",
            "key: 8\n"
          ]
        }
      ]
    },
    {
      "cell_type": "code",
      "metadata": {
        "id": "g_a64r6goari"
      },
      "source": [
        "def mapping_to_target_range( x, power_min=-np.sqrt(max_val), power_max=np.sqrt(max_val) ) :\n",
        "    x02 = K.sigmoid(x)*2 # x in range(0,2)\n",
        "    scale = ( power_max-power_min )/2\n",
        "    output = x02*scale + power_min\n",
        "    return output"
      ],
      "execution_count": 5,
      "outputs": []
    },
    {
      "cell_type": "code",
      "metadata": {
        "id": "skOFU-E2ScyK"
      },
      "source": [
        "Txinput0 = Input(shape=(k,)) #message\n",
        "Txinput1 = Input(shape=(key,)) #key\n",
        "Txinput = concatenate([Txinput0, Txinput1], axis=1)\n",
        "\n",
        "Txdense1 = Dense(units=(k + key))(Txinput)\n",
        "Txdense1a = Activation('relu')(Txdense1)\n",
        "Txdense2 = Dense(units=(k + key))(Txdense1a)\n",
        "Txdense2a = Activation('linear')(Txdense2)\n",
        "Txdense3 = Dense(n_channel, activation=mapping_to_target_range)(Txdense2a)\n",
        "Txoutput = Txdense3\n",
        "\n",
        "Tx = Model([Txinput0, Txinput1], Txoutput, name='Tx')\n",
        "# alice.summary()"
      ],
      "execution_count": 6,
      "outputs": []
    },
    {
      "cell_type": "code",
      "metadata": {
        "id": "RuCj1L7AfDAz"
      },
      "source": [
        "'''Addition of AWGN into the output of transmitter to account for channel'''\n",
        "EbNo_train = 10 #  coverted 7 db of EbNo\n",
        "cinput = Input(shape=(n_channel,))#message from Alice\n",
        "coutput = GaussianNoise(np.sqrt(1/(2*R*EbNo_train)))(cinput)\n",
        "channel = Model(cinput, coutput, name='channel')\n",
        "# channel.summary()"
      ],
      "execution_count": 7,
      "outputs": []
    },
    {
      "cell_type": "code",
      "metadata": {
        "id": "3_XLFRO3iP1h"
      },
      "source": [
        "Rxinput0 = Input(shape=(n_channel,)) #message\n",
        "Rxinput1 = Input(shape=(key,)) #key\n",
        "Rxinput = concatenate([Rxinput0, Rxinput1], axis=1)\n",
        "\n",
        "Rxdense1 = Dense(units=(n_channel + key))(Rxinput)\n",
        "Rxdense1a = Activation('relu')(Rxdense1)\n",
        "Rxdense2 = Dense(units=(n_channel + key))(Rxdense1a)\n",
        "Rxdense2a = Activation('tanh')(Rxdense2)\n",
        "Rxoutput =  Dense(k, activation='tanh')(Rxdense2a)\n",
        "\n",
        "Rx = Model([Rxinput0, Rxinput1], Rxoutput, name='Rx')\n",
        "# Rx.summary()"
      ],
      "execution_count": 8,
      "outputs": []
    },
    {
      "cell_type": "code",
      "metadata": {
        "id": "aHhqaN1cSmbt"
      },
      "source": [
        "einput = Input(shape=(n_channel,)) \n",
        "\n",
        "edense1 = Dense(units=(n_channel + key))(einput)\n",
        "edense1a = Activation('relu')(edense1)\n",
        "edense2 = Dense(units=(n_channel + key))(edense1a)\n",
        "edense2a = Activation('tanh')(edense2)\n",
        "edense3 = Dense(units=(n_channel + key))(edense2a)\n",
        "edense3a = Activation('tanh')(edense3)\n",
        "eoutput = Dense(k, activation='tanh')(edense3a)\n",
        "\n",
        "eve = Model(einput, eoutput, name='eve')"
      ],
      "execution_count": 9,
      "outputs": []
    },
    {
      "cell_type": "code",
      "metadata": {
        "id": "DtItEsYXiNDK"
      },
      "source": [
        "Txout = Tx([Txinput0, Txinput1])\n",
        "channelout = channel(Txout)\n",
        "Rxout = Rx([channelout, Rxinput1])# bob sees ciphertext AND key\n",
        "eveout = eve(channelout)# eve doesn't see the key"
      ],
      "execution_count": 10,
      "outputs": []
    },
    {
      "cell_type": "code",
      "metadata": {
        "id": "fp3NIVXLih0_",
        "colab": {
          "base_uri": "https://localhost:8080/"
        },
        "outputId": "e73e0993-314b-4658-8272-7dd46d5e606c"
      },
      "source": [
        "eveloss = K.mean(K.sum(K.abs(Txinput0 - eveout), axis=-1))\n",
        "Rxloss = K.mean(K.sum(K.abs(Txinput0 - Rxout), axis=-1))\n",
        "TxRxloss = Rxloss + K.square(k/2 - eveloss)/((k/2)**2)*2\n",
        "TxRxoptim = Adam(lr=0.002)\n",
        "eveoptim = Adam(lr=0.001) #default 0.001"
      ],
      "execution_count": 11,
      "outputs": [
        {
          "output_type": "stream",
          "name": "stderr",
          "text": [
            "/usr/local/lib/python3.7/dist-packages/keras/optimizer_v2/adam.py:105: UserWarning: The `lr` argument is deprecated, use `learning_rate` instead.\n",
            "  super(Adam, self).__init__(name, **kwargs)\n"
          ]
        }
      ]
    },
    {
      "cell_type": "code",
      "metadata": {
        "id": "7vxk03YhjM5Q"
      },
      "source": [
        "# Build and compile the ABE model, used for training Alice-Bob networks\n",
        "TxRxmodel = Model([Txinput0, Txinput1, Rxinput1], Rxout, name='TxRxmodel')\n",
        "TxRxmodel.add_loss(TxRxloss)\n",
        "TxRxmodel.compile(optimizer=TxRxoptim)\n",
        "\n",
        "# Build and compile the Eve model, used for training Eve net (with Alice frozen)\n",
        "Tx.trainable = False\n",
        "evemodel = Model([Txinput0, Txinput1], eveout, name='evemodel')\n",
        "evemodel.add_loss(eveloss)\n",
        "evemodel.compile(optimizer=eveoptim)"
      ],
      "execution_count": 12,
      "outputs": []
    },
    {
      "cell_type": "code",
      "metadata": {
        "id": "FgjENVa-_TOY"
      },
      "source": [
        "TxRxlosses = []\n",
        "evelosses = []"
      ],
      "execution_count": 13,
      "outputs": []
    },
    {
      "cell_type": "code",
      "metadata": {
        "id": "OAfYn3LJjNhm"
      },
      "source": [
        "n_epochs = 700\n",
        "batch_size = 1024\n",
        "n_batches = m_train # number of batches\n",
        "abecycles = 1\n",
        "evecycles = 2\n",
        "Loss=np.empty([1,1])\n",
        "\n",
        "epoch = 0\n",
        "while epoch < n_epochs:\n",
        "    TxRxlosses0 = [] #epoch-bound losses for text display during training\n",
        "    Rxlosses0 = []\n",
        "    evelosses0 = []\n",
        "    for iteration in range(n_batches):\n",
        "        # Train the TxRx+Eve network\n",
        "        for cycle in range(abecycles):\n",
        "            # Select a random batch of messages, and a random batch of keys\n",
        "            m_batch = np.random.randint(0, 2, k * batch_size).reshape(batch_size, k)\n",
        "            m_batch[m_batch<1] = -1\n",
        "            k_batch = np.random.randint(0, 2, key * batch_size).reshape(batch_size, key)\n",
        "            k_batch[k_batch<1] = -1\n",
        "            TxRxerror = TxRxmodel.train_on_batch([m_batch, k_batch, k_batch], None)\n",
        "        \n",
        "        TxRxlosses.append(TxRxerror)\n",
        "        TxRxlosses0.append(TxRxerror)\n",
        "        TxRxavg = np.mean(TxRxlosses0)\n",
        "        \n",
        "        # Train the EVE network\n",
        "        for cycle in range(evecycles):\n",
        "            m_batch = np.random.randint(0, 2, k * batch_size).reshape(batch_size, k)\n",
        "            m_batch[m_batch<1] = -1\n",
        "            k_batch = np.random.randint(0, 2, key * batch_size).reshape(batch_size, key)\n",
        "            k_batch[k_batch<1] = -1\n",
        "            Eerror = evemodel.train_on_batch([m_batch, k_batch], None)\n",
        "            \n",
        "        evelosses.append(Eerror)\n",
        "        evelosses0.append(Eerror)\n",
        "        eveavg = np.mean(evelosses0)\n",
        "    epoch += 1"
      ],
      "execution_count": 26,
      "outputs": []
    },
    {
      "cell_type": "code",
      "metadata": {
        "id": "fT06Syf0APNO",
        "colab": {
          "base_uri": "https://localhost:8080/",
          "height": 298
        },
        "outputId": "6500c204-0841-4446-d5b3-1fe204719fc8"
      },
      "source": [
        "steps = -1\n",
        "\n",
        "plt.figure(figsize=(7, 4))\n",
        "plt.plot(TxRxlosses[:steps], label='Tx-Rx')\n",
        "plt.plot(evelosses[:steps], label='Eve')\n",
        "plt.xlabel(\"Iterations\", fontsize=13)\n",
        "plt.ylabel(\"Loss\", fontsize=13)\n",
        "plt.legend(fontsize=13)\n",
        "plt.title(\"Loss Function of Tx-Rx and Eve for Encryption\")\n",
        "\n",
        "#plt.savefig(\"images/\" + model_name + \".png\", transparent=True) #dpi=100\n",
        "plt.show()\n",
        "# plt.savefig('GAN_Encryption.png', transparent=True)\n",
        "\n",
        "# files.download('GAN_Encryption.png')"
      ],
      "execution_count": 27,
      "outputs": [
        {
          "output_type": "display_data",
          "data": {
            "image/png": "[encoded data removed]",
            "text/plain": [
              "<Figure size 504x288 with 1 Axes>"
            ]
          },
          "metadata": {
            "needs_background": "light"
          }
        }
      ]
    },
    {
      "cell_type": "code",
      "metadata": {
        "id": "ho9RyJO9VSXf",
        "colab": {
          "base_uri": "https://localhost:8080/"
        },
        "outputId": "ad5a3adc-7a9e-4820-ff01-f0bd9582dfd1"
      },
      "source": [
        "n_examples = 10000\n",
        "\n",
        "m_batch = np.random.randint(0, 2, k * n_examples).reshape(n_examples, k)\n",
        "k_batch = np.random.randint(0, 2, key * n_examples).reshape(n_examples, key)\n",
        "m_batch[m_batch<1] = -1\n",
        "k_batch[k_batch<1] = -1\n",
        "\n",
        "m_TxRx = np.round(TxRxmodel.predict([m_batch, k_batch, k_batch]))\n",
        "TxRxdiff = np.abs(m_batch - m_TxRx)\n",
        "TxRxsum = np.sum(TxRxdiff, axis=-1)\n",
        "m_eve = np.round(evemodel.predict([m_batch, k_batch]))\n",
        "evediff = np.abs(m_batch - m_eve)\n",
        "evesum = np.sum(evediff, axis=-1)\n",
        "\n",
        "print(\"TxRx % correct: \", 100.0*np.sum(TxRxsum == 0) / n_examples, '%')\n",
        "print(\"Eve % correct: \", 100.0*np.sum(evesum == 0) / n_examples, '%')"
      ],
      "execution_count": 17,
      "outputs": [
        {
          "output_type": "stream",
          "name": "stdout",
          "text": [
            "TxRx % correct:  100.0 %\n",
            "Eve % correct:  43.49 %\n"
          ]
        }
      ]
    }
  ]
}