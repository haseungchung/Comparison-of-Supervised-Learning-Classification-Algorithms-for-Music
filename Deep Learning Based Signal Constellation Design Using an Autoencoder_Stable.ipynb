{
  "cells": [
    {
      "cell_type": "code",
      "execution_count": 1,
      "metadata": {
        "id": "B2LJ49Q-k1b6"
      },
      "outputs": [],
      "source": [
        "# importing libs\n",
        "import numpy as np\n",
        "import tensorflow as tf\n",
        "import keras\n",
        "import pandas as pd\n",
        "import openpyxl\n",
        "from openpyxl.reader.excel import load_workbook\n",
        "from keras.layers import Input, Dense, GaussianNoise,Lambda,Dropout,Add,Concatenate\n",
        "from keras.models import Model\n",
        "from keras.constraints import max_norm\n",
        "from keras import regularizers\n",
        "from tensorflow.keras.layers import BatchNormalization\n",
        "from tensorflow.keras.optimizers import Adam,SGD\n",
        "from keras import backend as K\n",
        "from google.colab import files"
      ]
    },
    {
      "cell_type": "code",
      "execution_count": 2,
      "metadata": {
        "id": "3lYmlIiBk1cD"
      },
      "outputs": [],
      "source": [
        "# for reproducing result\n",
        "tf.random.set_seed(3)"
      ]
    },
    {
      "cell_type": "code",
      "execution_count": 3,
      "metadata": {
        "colab": {
          "base_uri": "https://localhost:8080/"
        },
        "id": "uxb5fCbTk1cG",
        "outputId": "128ccd4c-09d2-484b-d8de-ebe4a3063f2b"
      },
      "outputs": [
        {
          "output_type": "stream",
          "name": "stdout",
          "text": [
            "M: 16 k: 4 n: 2\n"
          ]
        }
      ],
      "source": [
        "# defining parameters\n",
        "# define (n,k) here for (n,k) autoencoder\n",
        "# n = n_channel \n",
        "# k = log2(M)  ==> so for (7,4) autoencoder n_channel = 7 and M = 2^4 = 16 \n",
        "M = 16\n",
        "k = np.log2(M)\n",
        "k = int(k)\n",
        "n_channel = 2\n",
        "R = k/n_channel\n",
        "max_val=1\n",
        "print ('M:',M,'k:',k,'n:',n_channel)\n",
        "prop=250"
      ]
    },
    {
      "cell_type": "code",
      "execution_count": 4,
      "metadata": {
        "id": "oodKZ5rLk1cM"
      },
      "outputs": [],
      "source": [
        "#generating data of size N\n",
        "N = 1000000\n",
        "label = np.random.randint(M,size=N)"
      ]
    },
    {
      "cell_type": "code",
      "execution_count": 5,
      "metadata": {
        "id": "L68sasY0k1cR"
      },
      "outputs": [],
      "source": [
        "# creating one hot encoded vectors\n",
        "data=np.zeros([N,M])\n",
        "for i in range(len(label)):\n",
        "    data[i][label[i]] = 1\n",
        "\n",
        "\n",
        "EbNo_train = 10 #  coverted 7 db of EbNo\n",
        "noise=np.random.normal(0,np.sqrt(1/(2*R*EbNo_train)),[N,n_channel])"
      ]
    },
    {
      "cell_type": "code",
      "execution_count": 15,
      "metadata": {
        "colab": {
          "base_uri": "https://localhost:8080/"
        },
        "id": "BGSiDc0Mk1cd",
        "outputId": "7a4b6009-eb93-4c26-d663-e01903c6abe7"
      },
      "outputs": [
        {
          "output_type": "stream",
          "name": "stdout",
          "text": [
            "Model: \"model_3\"\n",
            "__________________________________________________________________________________________________\n",
            " Layer (type)                   Output Shape         Param #     Connected to                     \n",
            "==================================================================================================\n",
            " input_4 (InputLayer)           [(None, 16)]         0           []                               \n",
            "                                                                                                  \n",
            " dense_5 (Dense)                (None, 16)           272         ['input_4[0][0]']                \n",
            "                                                                                                  \n",
            " dense_6 (Dense)                (None, 2)            34          ['dense_5[0][0]']                \n",
            "                                                                                                  \n",
            " input_5 (InputLayer)           [(None, 2)]          0           []                               \n",
            "                                                                                                  \n",
            " lambda (Lambda)                (None, 2)            0           ['dense_6[0][0]']                \n",
            "                                                                                                  \n",
            " add_1 (Add)                    (None, 2)            0           ['input_5[0][0]',                \n",
            "                                                                  'lambda[0][0]']                 \n",
            "                                                                                                  \n",
            " dense_7 (Dense)                (None, 16)           48          ['add_1[0][0]']                  \n",
            "                                                                                                  \n",
            " dense_8 (Dense)                (None, 16)           272         ['dense_7[0][0]']                \n",
            "                                                                                                  \n",
            "==================================================================================================\n",
            "Total params: 626\n",
            "Trainable params: 626\n",
            "Non-trainable params: 0\n",
            "__________________________________________________________________________________________________\n",
            "None\n"
          ]
        }
      ],
      "source": [
        "''' a custom activation function for amplitude constraint (~QAM style)'''\n",
        "def mapping_to_target_range( x, target_min=-np.sqrt(max_val), target_max=np.sqrt(max_val) ) :\n",
        "    x02 = K.tanh(x)+1 # x in range(0,2)\n",
        "    scale = ( target_max-target_min )/2.\n",
        "    return  x02 * scale + target_min\n",
        "\n",
        "'''a custom loss function for the average power constraint (~unique result)'''\n",
        "def custom_loss(signal):\n",
        "    def loss(y_true, y_pred):\n",
        "        sqsig=tf.math.square(signal)\n",
        "        bound=tf.convert_to_tensor(max_val, dtype=float)\n",
        "        sigenergy=tf.convert_to_tensor(tf.math.reduce_sum(sqsig),float)\n",
        "        # sloss = tf.keras.backend.switch(tf.math.greater((tf.keras.backend.sum(tf.keras.backend.square(signal))),tf.keras.backend.constant(max_val)),tf.keras.backend.sum(tf.keras.backend.square(signal))-tf.keras.backend.constant(max_val),tf.keras.backend.constant(0))\n",
        "        # return sloss/prop+keras.losses.categorical_crossentropy(y_true, y_pred)\n",
        "        # sloss = tf.(tf.math.square(signal))-tf.convert_to_tensor(max_val) if tf.keras.metrics.Sum(tf.math.square(signal)) > tf.convert_to_tensor(max_val) else tf.convert_to_tensor(0)\n",
        "        return sigenergy+tf.convert_to_tensor(max_val, dtype=float) + keras.losses.categorical_crossentropy(y_true, y_pred)\n",
        "    return loss\n",
        "\n",
        "# defining autoencoder and its layer\n",
        "input_signal = Input(shape=(M,))\n",
        "encoded = Dense(M, activation='relu')(input_signal)\n",
        "encoded1 = Dense(n_channel, activation='linear')(encoded)\n",
        "# encoded2 = Dense(n_channel, activation='relu')(encoded1) #average power\n",
        "# encoded2 = Dense(n_channel, activation=mapping_to_target_range)(encoded1) #QAM style\n",
        "''' an activation function for energy constraint (~PSK style)'''\n",
        "encoded2 = Lambda(lambda x: np.sqrt(n_channel)*K.l2_normalize(x,axis=1))(encoded1) #only implement for the energy constraint\n",
        "\n",
        "inputnoise = Input(shape=(n_channel,))\n",
        "encoded3 = Add()([inputnoise,encoded2])\n",
        "\n",
        "decoded = Dense(M, activation='relu')(encoded3)\n",
        "decoded1 = Dense(M, activation='softmax')(decoded)\n",
        "autoencoder = Model([input_signal,inputnoise], decoded1)\n",
        "adam = Adam(learning_rate=0.001)\n",
        "# autoencoder.compile(optimizer=adam, loss=custom_loss(encoded2)) #only implement for average power constraint\n",
        "autoencoder.compile(optimizer=adam, loss='categorical_crossentropy') #loss for every other constraint\n",
        "# autoencoder summary\n",
        "print (autoencoder.summary())"
      ]
    },
    {
      "cell_type": "code",
      "execution_count": 16,
      "metadata": {
        "colab": {
          "base_uri": "https://localhost:8080/"
        },
        "id": "29wApxngk1cr",
        "scrolled": true,
        "outputId": "84fa3c27-622f-42f5-f153-59bad7842219"
      },
      "outputs": [
        {
          "output_type": "stream",
          "name": "stdout",
          "text": [
            "Epoch 1/3\n",
            "62500/62500 [==============================] - 115s 2ms/step - loss: 0.2674\n",
            "Epoch 2/3\n",
            "62500/62500 [==============================] - 113s 2ms/step - loss: 0.2190\n",
            "Epoch 3/3\n",
            "62500/62500 [==============================] - 113s 2ms/step - loss: 0.2177\n",
            "Epoch 1/25\n",
            "3907/3907 [==============================] - 12s 3ms/step - loss: 0.2106\n",
            "Epoch 2/25\n",
            "3907/3907 [==============================] - 12s 3ms/step - loss: 0.2111\n",
            "Epoch 3/25\n",
            "3907/3907 [==============================] - 12s 3ms/step - loss: 0.2111\n",
            "Epoch 4/25\n",
            "3907/3907 [==============================] - 11s 3ms/step - loss: 0.2111\n",
            "Epoch 5/25\n",
            "3907/3907 [==============================] - 11s 3ms/step - loss: 0.2111\n",
            "Epoch 6/25\n",
            "3907/3907 [==============================] - 11s 3ms/step - loss: 0.2110\n",
            "Epoch 7/25\n",
            "3907/3907 [==============================] - 11s 3ms/step - loss: 0.2110\n",
            "Epoch 8/25\n",
            "3907/3907 [==============================] - 11s 3ms/step - loss: 0.2110\n",
            "Epoch 9/25\n",
            "3907/3907 [==============================] - 11s 3ms/step - loss: 0.2110\n",
            "Epoch 10/25\n",
            "3907/3907 [==============================] - 12s 3ms/step - loss: 0.2111\n",
            "Epoch 11/25\n",
            "3907/3907 [==============================] - 11s 3ms/step - loss: 0.2109\n",
            "Epoch 12/25\n",
            "3907/3907 [==============================] - 11s 3ms/step - loss: 0.2110\n",
            "Epoch 13/25\n",
            "3907/3907 [==============================] - 12s 3ms/step - loss: 0.2109\n",
            "Epoch 14/25\n",
            "3907/3907 [==============================] - 12s 3ms/step - loss: 0.2109\n",
            "Epoch 15/25\n",
            "3907/3907 [==============================] - 12s 3ms/step - loss: 0.2109\n",
            "Epoch 16/25\n",
            "3907/3907 [==============================] - 12s 3ms/step - loss: 0.2109\n",
            "Epoch 17/25\n",
            "3907/3907 [==============================] - 11s 3ms/step - loss: 0.2108\n",
            "Epoch 18/25\n",
            "3907/3907 [==============================] - 12s 3ms/step - loss: 0.2108\n",
            "Epoch 19/25\n",
            "3907/3907 [==============================] - 12s 3ms/step - loss: 0.2109\n",
            "Epoch 20/25\n",
            "3907/3907 [==============================] - 12s 3ms/step - loss: 0.2107\n",
            "Epoch 21/25\n",
            "3907/3907 [==============================] - 11s 3ms/step - loss: 0.2108\n",
            "Epoch 22/25\n",
            "3907/3907 [==============================] - 11s 3ms/step - loss: 0.2107\n",
            "Epoch 23/25\n",
            "3907/3907 [==============================] - 12s 3ms/step - loss: 0.2107\n",
            "Epoch 24/25\n",
            "3907/3907 [==============================] - 11s 3ms/step - loss: 0.2107\n",
            "Epoch 25/25\n",
            "3907/3907 [==============================] - 12s 3ms/step - loss: 0.2107\n",
            "Epoch 1/50\n",
            "245/245 [==============================] - 2s 7ms/step - loss: 0.2092\n",
            "Epoch 2/50\n",
            "245/245 [==============================] - 2s 7ms/step - loss: 0.2091\n",
            "Epoch 3/50\n",
            "245/245 [==============================] - 2s 7ms/step - loss: 0.2091\n",
            "Epoch 4/50\n",
            "245/245 [==============================] - 2s 7ms/step - loss: 0.2091\n",
            "Epoch 5/50\n",
            "245/245 [==============================] - 2s 7ms/step - loss: 0.2092\n",
            "Epoch 6/50\n",
            "245/245 [==============================] - 2s 7ms/step - loss: 0.2092\n",
            "Epoch 7/50\n",
            "245/245 [==============================] - 2s 7ms/step - loss: 0.2092\n",
            "Epoch 8/50\n",
            "245/245 [==============================] - 2s 7ms/step - loss: 0.2092\n",
            "Epoch 9/50\n",
            "245/245 [==============================] - 2s 7ms/step - loss: 0.2093\n",
            "Epoch 10/50\n",
            "245/245 [==============================] - 2s 8ms/step - loss: 0.2092\n",
            "Epoch 11/50\n",
            "245/245 [==============================] - 2s 7ms/step - loss: 0.2093\n",
            "Epoch 12/50\n",
            "245/245 [==============================] - 2s 7ms/step - loss: 0.2093\n",
            "Epoch 13/50\n",
            "245/245 [==============================] - 2s 7ms/step - loss: 0.2093\n",
            "Epoch 14/50\n",
            "245/245 [==============================] - 2s 7ms/step - loss: 0.2093\n",
            "Epoch 15/50\n",
            "245/245 [==============================] - 2s 7ms/step - loss: 0.2093\n",
            "Epoch 16/50\n",
            "245/245 [==============================] - 2s 8ms/step - loss: 0.2094\n",
            "Epoch 17/50\n",
            "245/245 [==============================] - 2s 8ms/step - loss: 0.2094\n",
            "Epoch 18/50\n",
            "245/245 [==============================] - 2s 8ms/step - loss: 0.2094\n",
            "Epoch 19/50\n",
            "245/245 [==============================] - 2s 7ms/step - loss: 0.2093\n",
            "Epoch 20/50\n",
            "245/245 [==============================] - 2s 7ms/step - loss: 0.2094\n",
            "Epoch 21/50\n",
            "245/245 [==============================] - 2s 7ms/step - loss: 0.2094\n",
            "Epoch 22/50\n",
            "245/245 [==============================] - 2s 7ms/step - loss: 0.2094\n",
            "Epoch 23/50\n",
            "245/245 [==============================] - 2s 7ms/step - loss: 0.2094\n",
            "Epoch 24/50\n",
            "245/245 [==============================] - 2s 7ms/step - loss: 0.2094\n",
            "Epoch 25/50\n",
            "245/245 [==============================] - 2s 7ms/step - loss: 0.2094\n",
            "Epoch 26/50\n",
            "245/245 [==============================] - 2s 7ms/step - loss: 0.2094\n",
            "Epoch 27/50\n",
            "245/245 [==============================] - 2s 8ms/step - loss: 0.2093\n",
            "Epoch 28/50\n",
            "245/245 [==============================] - 2s 7ms/step - loss: 0.2093\n",
            "Epoch 29/50\n",
            "245/245 [==============================] - 2s 7ms/step - loss: 0.2093\n",
            "Epoch 30/50\n",
            "245/245 [==============================] - 2s 7ms/step - loss: 0.2093\n",
            "Epoch 31/50\n",
            "245/245 [==============================] - 2s 7ms/step - loss: 0.2094\n",
            "Epoch 32/50\n",
            "245/245 [==============================] - 2s 7ms/step - loss: 0.2093\n",
            "Epoch 33/50\n",
            "245/245 [==============================] - 2s 7ms/step - loss: 0.2093\n",
            "Epoch 34/50\n",
            "245/245 [==============================] - 2s 8ms/step - loss: 0.2094\n",
            "Epoch 35/50\n",
            "245/245 [==============================] - 2s 7ms/step - loss: 0.2094\n",
            "Epoch 36/50\n",
            "245/245 [==============================] - 2s 7ms/step - loss: 0.2094\n",
            "Epoch 37/50\n",
            "245/245 [==============================] - 2s 7ms/step - loss: 0.2093\n",
            "Epoch 38/50\n",
            "245/245 [==============================] - 2s 7ms/step - loss: 0.2093\n",
            "Epoch 39/50\n",
            "245/245 [==============================] - 2s 7ms/step - loss: 0.2094\n",
            "Epoch 40/50\n",
            "245/245 [==============================] - 2s 7ms/step - loss: 0.2093\n",
            "Epoch 41/50\n",
            "245/245 [==============================] - 2s 7ms/step - loss: 0.2094\n",
            "Epoch 42/50\n",
            "245/245 [==============================] - 2s 7ms/step - loss: 0.2094\n",
            "Epoch 43/50\n",
            "245/245 [==============================] - 2s 7ms/step - loss: 0.2094\n",
            "Epoch 44/50\n",
            "245/245 [==============================] - 2s 7ms/step - loss: 0.2094\n",
            "Epoch 45/50\n",
            "245/245 [==============================] - 2s 7ms/step - loss: 0.2093\n",
            "Epoch 46/50\n",
            "245/245 [==============================] - 2s 7ms/step - loss: 0.2093\n",
            "Epoch 47/50\n",
            "245/245 [==============================] - 2s 7ms/step - loss: 0.2093\n",
            "Epoch 48/50\n",
            "245/245 [==============================] - 2s 7ms/step - loss: 0.2093\n",
            "Epoch 49/50\n",
            "245/245 [==============================] - 2s 7ms/step - loss: 0.2094\n",
            "Epoch 50/50\n",
            "245/245 [==============================] - 2s 7ms/step - loss: 0.2094\n"
          ]
        },
        {
          "output_type": "execute_result",
          "data": {
            "text/plain": [
              "<keras.callbacks.History at 0x7fbe17a69510>"
            ]
          },
          "metadata": {},
          "execution_count": 16
        }
      ],
      "source": [
        "# traning the autoencoder\n",
        "# autoencoder.fit([data,noise], data, epochs=100, batch_size=M*128)\n",
        "# autoencoder.fit(data, data, epochs=20, batch_size=M*32)\n",
        "autoencoder.fit([data, noise], data, epochs=3, batch_size=M*1)\n",
        "autoencoder.fit([data, noise], data, epochs=25, batch_size=M*16)\n",
        "autoencoder.fit([data,noise], data, epochs=50, batch_size=M*256)"
      ]
    },
    {
      "cell_type": "code",
      "execution_count": 17,
      "metadata": {
        "id": "pDc4QGu_k1c2"
      },
      "outputs": [],
      "source": [
        "# isolating the encoder section from full autoencoder\n",
        "encoder = Model([input_signal,inputnoise], encoded3)"
      ]
    },
    {
      "cell_type": "code",
      "execution_count": 18,
      "metadata": {
        "id": "ufDQ_9vJk1c8"
      },
      "outputs": [],
      "source": [
        "# isolating the decoder section from full autoencoder\n",
        "encoded_input = Input(shape=(n_channel,))\n",
        "\n",
        "deco = autoencoder.layers[-2](encoded_input)\n",
        "deco = autoencoder.layers[-1](deco)\n",
        "decoder = Model(encoded_input, deco)"
      ]
    },
    {
      "cell_type": "code",
      "execution_count": 19,
      "metadata": {
        "id": "jV7rmDJfk1dA"
      },
      "outputs": [],
      "source": [
        "# Making test data\n",
        "Ntest = 50000\n",
        "test_label = np.random.randint(M,size=Ntest)\n",
        "test_data=np.zeros([Ntest,M])\n",
        "for i in range(len(test_label)):\n",
        "    test_data[i][label[i]] = 1"
      ]
    },
    {
      "cell_type": "code",
      "execution_count": 20,
      "metadata": {
        "colab": {
          "base_uri": "https://localhost:8080/"
        },
        "id": "wRzXGCbIk1dG",
        "outputId": "27592f4f-bb3d-451b-fdd0-f67857d6eaad"
      },
      "outputs": [
        {
          "output_type": "stream",
          "name": "stdout",
          "text": [
            "(16, 1, 2)\n",
            "(16, 1, 2)\n"
          ]
        }
      ],
      "source": [
        "# for plotting learned constallation diagram\n",
        "scatter_plot = []\n",
        "scatter_plot_nn = []\n",
        "for i in range(0,M):\n",
        "    temp = np.zeros(M)\n",
        "    temp[i] = 1\n",
        "    scatter_plot.append(encoder.predict([np.expand_dims(temp,axis=0),np.random.normal(0,np.sqrt(1/(2*R*EbNo_train)),[1,2])]))\n",
        "    scatter_plot_nn.append(encoder.predict([np.expand_dims(temp,axis=0),np.random.normal(0,0.01,[1,2])]))\n",
        "    # print(np.expand_dims(temp,axis=0).shape)\n",
        "scatter_plot = np.array(scatter_plot)\n",
        "scatter_plot_nn = np.array(scatter_plot_nn)\n",
        "print(scatter_plot.shape)\n",
        "print(scatter_plot_nn.shape)"
      ]
    },
    {
      "cell_type": "code",
      "execution_count": 14,
      "metadata": {
        "colab": {
          "base_uri": "https://localhost:8080/",
          "height": 351
        },
        "id": "Q2yI90l6k1dP",
        "outputId": "8400d1bc-ebce-42da-e97b-7da91670e9ed"
      },
      "outputs": [
        {
          "output_type": "display_data",
          "data": {
            "image/png": "[encoded data removed]",
            "text/plain": [
              "<Figure size 360x360 with 1 Axes>"
            ]
          },
          "metadata": {
            "needs_background": "light"
          }
        }
      ],
      "source": [
        "# # plotting constellation diagram\n",
        "# import matplotlib.pyplot as plt\n",
        "# plt.figure(figsize=(5, 5))\n",
        "# plt.title(\"Constellation Map of Signals\\n Under Energy Constraint\")\n",
        "# scatter_plot = scatter_plot.reshape(M,2,1)\n",
        "# plt.scatter(scatter_plot[:,0],scatter_plot[:,1])\n",
        "# plt.axis((-2.5,2.5,-2.5,2.5))\n",
        "# plt.grid()\n",
        "'''Amplitude Constraint'''\n",
        "# plotting constellation diagram with noise\n",
        "plt.figure(figsize=(5, 5))\n",
        "plt.title(\"Constellation Map of Signals\\n Under Energy Constraint\")\n",
        "scatter_plot_nn = scatter_plot_nn.reshape(M,2,1)\n",
        "plt.scatter(scatter_plot_nn[:,0],scatter_plot_nn[:,1])\n",
        "plt.axis((-2.5,2.5,-2.5,2.5))\n",
        "plt.grid()"
      ]
    },
    {
      "cell_type": "code",
      "execution_count": 21,
      "metadata": {
        "colab": {
          "base_uri": "https://localhost:8080/",
          "height": 351
        },
        "id": "Q3p2K_5EnmEd",
        "outputId": "23062096-185d-471d-8a79-05993661a978"
      },
      "outputs": [
        {
          "output_type": "display_data",
          "data": {
            "image/png": "[encoded data removed]",
            "text/plain": [
              "<Figure size 360x360 with 1 Axes>"
            ]
          },
          "metadata": {
            "needs_background": "light"
          }
        }
      ],
      "source": [
        "'''Energy Constraint'''\n",
        "# plotting constellation diagram with noise\n",
        "plt.figure(figsize=(5, 5))\n",
        "plt.title(\"Constellation Map of Signals\\n Under Energy Constraint\")\n",
        "scatter_plot_nn = scatter_plot_nn.reshape(M,2,1)\n",
        "plt.scatter(scatter_plot_nn[:,0],scatter_plot_nn[:,1])\n",
        "plt.axis((-2.5,2.5,-2.5,2.5))\n",
        "plt.grid()"
      ]
    },
    {
      "cell_type": "code",
      "source": [
        ""
      ],
      "metadata": {
        "id": "TGYWwqdYElb0"
      },
      "execution_count": null,
      "outputs": []
    }
  ],
  "metadata": {
    "accelerator": "TPU",
    "anaconda-cloud": {},
    "colab": {
      "collapsed_sections": [],
      "name": "Intro to DL for the Physical Layer_NoGAN_Autoencoder_QAM, PSK, Pentagon_Stable.ipynb",
      "provenance": []
    },
    "kernelspec": {
      "display_name": "Python 3",
      "language": "python",
      "name": "python3"
    },
    "language_info": {
      "codemirror_mode": {
        "name": "ipython",
        "version": 3
      },
      "file_extension": ".py",
      "mimetype": "text/x-python",
      "name": "python",
      "nbconvert_exporter": "python",
      "pygments_lexer": "ipython3",
      "version": "3.6.5"
    }
  },
  "nbformat": 4,
  "nbformat_minor": 0
}