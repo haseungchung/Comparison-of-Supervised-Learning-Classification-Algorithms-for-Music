{
  "cells": [
    {
      "cell_type": "markdown",
      "metadata": {
        "id": "view-in-github",
        "colab_type": "text"
      },
      "source": [
        "<a href=\"https://colab.research.google.com/github/haseungchung/Machine-Learning-and-Deep-Learning-Projects/blob/main/Deep%20Learning%20Based%20Signal%20Constellation%20Design%20Using%20an%20Autoencoder/Intro_to_DL_for_the_Physical_Layer_Autoencoder_Pentagon(Average_Power)_Stable.ipynb\" target=\"_parent\"><img src=\"https://colab.research.google.com/assets/colab-badge.svg\" alt=\"Open In Colab\"/></a>"
      ]
    },
    {
      "cell_type": "code",
      "source": [
        "# !pip uninstall tensorflow\n",
        "# !pip uninstall keras\n",
        "# !pip install tensorflow-gpu==2.0.0\n",
        "# !pip install keras==2.3.1\n",
        "print(keras.__version__)\n",
        "print(tf.__version__)"
      ],
      "metadata": {
        "colab": {
          "base_uri": "https://localhost:8080/"
        },
        "id": "VedUq1_Qy4dK",
        "outputId": "01e52e34-4900-49c9-e7c1-246cc8d729b4"
      },
      "execution_count": 3,
      "outputs": [
        {
          "output_type": "stream",
          "name": "stdout",
          "text": [
            "2.3.1\n",
            "2.0.0\n"
          ]
        }
      ]
    },
    {
      "cell_type": "code",
      "source": [
        "# importing libs\n",
        "import numpy as np\n",
        "import tensorflow as tf\n",
        "import keras\n",
        "import pandas as pd\n",
        "import openpyxl\n",
        "from openpyxl.reader.excel import load_workbook\n",
        "from keras.layers import Input, Dense, GaussianNoise,Lambda,Dropout,Add,Concatenate\n",
        "from keras.models import Model\n",
        "from keras.constraints import max_norm\n",
        "from keras import regularizers\n",
        "from keras.layers.normalization import BatchNormalization\n",
        "from keras.optimizers import Adam,SGD\n",
        "from keras import backend as K\n",
        "from google.colab import files"
      ],
      "metadata": {
        "colab": {
          "base_uri": "https://localhost:8080/"
        },
        "id": "TaNgNn8L4Yf9",
        "outputId": "80dd4ea9-81b6-440d-a3ba-abf1151348ad"
      },
      "execution_count": 2,
      "outputs": [
        {
          "output_type": "stream",
          "name": "stderr",
          "text": [
            "Using TensorFlow backend.\n"
          ]
        }
      ]
    },
    {
      "cell_type": "code",
      "execution_count": 4,
      "metadata": {
        "id": "3lYmlIiBk1cD"
      },
      "outputs": [],
      "source": [
        "# for reproducing result\n",
        "tf.random.set_seed(3)"
      ]
    },
    {
      "cell_type": "code",
      "execution_count": 5,
      "metadata": {
        "colab": {
          "base_uri": "https://localhost:8080/"
        },
        "id": "uxb5fCbTk1cG",
        "outputId": "8106f987-7841-4694-cc1b-7c6e41e0895a"
      },
      "outputs": [
        {
          "output_type": "stream",
          "name": "stdout",
          "text": [
            "M: 16 k: 4 n: 2\n"
          ]
        }
      ],
      "source": [
        "# defining parameters\n",
        "# define (n,k) here for (n,k) autoencoder\n",
        "# n = n_channel \n",
        "# k = log2(M)  ==> so for (7,4) autoencoder n_channel = 7 and M = 2^4 = 16 \n",
        "M = 16\n",
        "k = np.log2(M)\n",
        "k = int(k)\n",
        "n_channel = 2\n",
        "R = k/n_channel\n",
        "max_val=1\n",
        "print ('M:',M,'k:',k,'n:',n_channel)\n",
        "prop=300"
      ]
    },
    {
      "cell_type": "code",
      "execution_count": 6,
      "metadata": {
        "id": "oodKZ5rLk1cM"
      },
      "outputs": [],
      "source": [
        "#generating data of size N\n",
        "N = 75000\n",
        "label = np.random.randint(M,size=N)"
      ]
    },
    {
      "cell_type": "code",
      "execution_count": 7,
      "metadata": {
        "id": "L68sasY0k1cR"
      },
      "outputs": [],
      "source": [
        "# creating one hot encoded vectors\n",
        "data=np.zeros([N,M])\n",
        "for i in range(len(label)):\n",
        "    data[i][label[i]] = 1\n",
        "\n",
        "\n",
        "EbNo_train = 5.01187 #  coverted 7 db of EbNo\n",
        "noise=np.random.normal(0,np.sqrt(1/(2*R*EbNo_train)),[N,n_channel])"
      ]
    },
    {
      "cell_type": "code",
      "execution_count": 8,
      "metadata": {
        "colab": {
          "base_uri": "https://localhost:8080/"
        },
        "id": "BGSiDc0Mk1cd",
        "outputId": "c85085f8-3ad7-4b0a-f2ef-f58e007c3ee1"
      },
      "outputs": [
        {
          "output_type": "stream",
          "name": "stdout",
          "text": [
            "Model: \"model_1\"\n",
            "__________________________________________________________________________________________________\n",
            "Layer (type)                    Output Shape         Param #     Connected to                     \n",
            "==================================================================================================\n",
            "input_1 (InputLayer)            (None, 16)           0                                            \n",
            "__________________________________________________________________________________________________\n",
            "dense_1 (Dense)                 (None, 16)           272         input_1[0][0]                    \n",
            "__________________________________________________________________________________________________\n",
            "dense_2 (Dense)                 (None, 2)            34          dense_1[0][0]                    \n",
            "__________________________________________________________________________________________________\n",
            "input_2 (InputLayer)            (None, 2)            0                                            \n",
            "__________________________________________________________________________________________________\n",
            "batch_normalization_1 (BatchNor (None, 2)            8           dense_2[0][0]                    \n",
            "__________________________________________________________________________________________________\n",
            "add_1 (Add)                     (None, 2)            0           input_2[0][0]                    \n",
            "                                                                 batch_normalization_1[0][0]      \n",
            "__________________________________________________________________________________________________\n",
            "dense_3 (Dense)                 (None, 16)           48          add_1[0][0]                      \n",
            "__________________________________________________________________________________________________\n",
            "dense_4 (Dense)                 (None, 16)           272         dense_3[0][0]                    \n",
            "==================================================================================================\n",
            "Total params: 634\n",
            "Trainable params: 630\n",
            "Non-trainable params: 4\n",
            "__________________________________________________________________________________________________\n",
            "None\n"
          ]
        }
      ],
      "source": [
        "''' a custom activation function for amplitude constraint (~QAM style)'''\n",
        "def mapping_to_target_range( x, target_min=-np.sqrt(max_val), target_max=np.sqrt(max_val) ) :\n",
        "    x02 = K.tanh(x)+1 # x in range(0,2)\n",
        "    scale = ( target_max-target_min )/2.\n",
        "    return  x02 * scale + target_min\n",
        "\n",
        "'''a custom loss function for the average power constraint (~unique result)'''\n",
        "def custom_loss(signal):\n",
        "    def loss(y_true, y_pred):\n",
        "        sloss = K.switch(K.greater((K.sum(K.square(signal))),K.constant(max_val)),K.sum(K.square(signal))-K.constant(max_val),K.constant(0))\n",
        "        return sloss/prop+keras.losses.categorical_crossentropy(y_true, y_pred)\n",
        "    return loss\n",
        "\n",
        "# defining autoencoder and its layer\n",
        "input_signal = Input(shape=(M,))\n",
        "encoded = Dense(M, activation='relu')(input_signal)\n",
        "encoded1 = Dense(n_channel, activation='linear')(encoded)\n",
        "encoded2 = BatchNormalization()(encoded1) #average power\n",
        "# encoded2 = Dense(n_channel, activation=mapping_to_target_range)(encoded1) #QAM style\n",
        "''' an activation function for energy constraint (~PSK style)'''\n",
        "# encoded2 = Lambda(lambda x: np.sqrt(n_channel)*K.l2_normalize(x,axis=1))(encoded1) #only implement for the energy constraint\n",
        "\n",
        "inputnoise = Input(shape=(n_channel,))\n",
        "encoded3 = Add()([inputnoise,encoded2])\n",
        "\n",
        "decoded = Dense(M, activation='relu')(encoded3)\n",
        "decoded1 = Dense(M, activation='softmax')(decoded)\n",
        "autoencoder = Model([input_signal,inputnoise], decoded1)\n",
        "adam = Adam(learning_rate=0.005)\n",
        "autoencoder.compile(optimizer=adam, loss=custom_loss(encoded2)) #only implement for average power constraint\n",
        "# autoencoder.compile(optimizer=adam, loss='categorical_crossentropy') #loss for every other constraint\n",
        "# autoencoder summary\n",
        "print (autoencoder.summary())"
      ]
    },
    {
      "cell_type": "code",
      "execution_count": 10,
      "metadata": {
        "colab": {
          "base_uri": "https://localhost:8080/"
        },
        "id": "29wApxngk1cr",
        "scrolled": true,
        "outputId": "a3e5dfad-26b6-4ca7-c566-69fa50bfb7b6"
      },
      "outputs": [
        {
          "output_type": "stream",
          "name": "stdout",
          "text": [
            "Train on 75000 samples, validate on 1500 samples\n",
            "Epoch 1/75\n",
            "75000/75000 [==============================] - 2s 29us/step - loss: 1.1396 - val_loss: 0.7672\n",
            "Epoch 2/75\n",
            "75000/75000 [==============================] - 2s 26us/step - loss: 0.8380 - val_loss: 0.7409\n",
            "Epoch 3/75\n",
            "75000/75000 [==============================] - 2s 26us/step - loss: 0.8300 - val_loss: 0.7287\n",
            "Epoch 4/75\n",
            "75000/75000 [==============================] - 2s 26us/step - loss: 0.8211 - val_loss: 0.7482\n",
            "Epoch 5/75\n",
            "75000/75000 [==============================] - 2s 27us/step - loss: 0.8164 - val_loss: 0.7099\n",
            "Epoch 6/75\n",
            "75000/75000 [==============================] - 2s 26us/step - loss: 0.8167 - val_loss: 0.7046\n",
            "Epoch 7/75\n",
            "75000/75000 [==============================] - 2s 25us/step - loss: 0.8129 - val_loss: 0.7095\n",
            "Epoch 8/75\n",
            "75000/75000 [==============================] - 2s 25us/step - loss: 0.8211 - val_loss: 0.6991\n",
            "Epoch 9/75\n",
            "75000/75000 [==============================] - 2s 26us/step - loss: 0.8157 - val_loss: 0.6990\n",
            "Epoch 10/75\n",
            "75000/75000 [==============================] - 2s 25us/step - loss: 0.8158 - val_loss: 0.7010\n",
            "Epoch 11/75\n",
            "75000/75000 [==============================] - 2s 25us/step - loss: 0.8213 - val_loss: 0.7115\n",
            "Epoch 12/75\n",
            "75000/75000 [==============================] - 2s 26us/step - loss: 0.8229 - val_loss: 0.7023\n",
            "Epoch 13/75\n",
            "75000/75000 [==============================] - 2s 25us/step - loss: 0.8216 - val_loss: 0.7000\n",
            "Epoch 14/75\n",
            "75000/75000 [==============================] - 2s 26us/step - loss: 0.8118 - val_loss: 0.7078\n",
            "Epoch 15/75\n",
            "75000/75000 [==============================] - 2s 26us/step - loss: 0.8229 - val_loss: 0.6988\n",
            "Epoch 16/75\n",
            "75000/75000 [==============================] - 2s 26us/step - loss: 0.8082 - val_loss: 0.7048\n",
            "Epoch 17/75\n",
            "75000/75000 [==============================] - 2s 25us/step - loss: 0.8127 - val_loss: 0.7022\n",
            "Epoch 18/75\n",
            "75000/75000 [==============================] - 2s 25us/step - loss: 0.8246 - val_loss: 0.7098\n",
            "Epoch 19/75\n",
            "75000/75000 [==============================] - 2s 25us/step - loss: 0.8216 - val_loss: 0.7086\n",
            "Epoch 20/75\n",
            "75000/75000 [==============================] - 2s 26us/step - loss: 0.8121 - val_loss: 0.6936\n",
            "Epoch 21/75\n",
            "75000/75000 [==============================] - 2s 26us/step - loss: 0.8093 - val_loss: 0.7119\n",
            "Epoch 22/75\n",
            "75000/75000 [==============================] - 2s 27us/step - loss: 0.8164 - val_loss: 0.7030\n",
            "Epoch 23/75\n",
            "75000/75000 [==============================] - 2s 26us/step - loss: 0.8162 - val_loss: 0.6952\n",
            "Epoch 24/75\n",
            "75000/75000 [==============================] - 2s 26us/step - loss: 0.8141 - val_loss: 0.6982\n",
            "Epoch 25/75\n",
            "75000/75000 [==============================] - 2s 26us/step - loss: 0.8155 - val_loss: 0.6999\n",
            "Epoch 26/75\n",
            "75000/75000 [==============================] - 2s 25us/step - loss: 0.8112 - val_loss: 0.7055\n",
            "Epoch 27/75\n",
            "75000/75000 [==============================] - 2s 26us/step - loss: 0.8141 - val_loss: 0.6967\n",
            "Epoch 28/75\n",
            "75000/75000 [==============================] - 2s 26us/step - loss: 0.8199 - val_loss: 0.7003\n",
            "Epoch 29/75\n",
            "75000/75000 [==============================] - 2s 26us/step - loss: 0.8159 - val_loss: 0.6966\n",
            "Epoch 30/75\n",
            "75000/75000 [==============================] - 3s 36us/step - loss: 0.8125 - val_loss: 0.6971\n",
            "Epoch 31/75\n",
            "75000/75000 [==============================] - 2s 27us/step - loss: 0.8110 - val_loss: 0.6958\n",
            "Epoch 32/75\n",
            "75000/75000 [==============================] - 2s 26us/step - loss: 0.8154 - val_loss: 0.6960\n",
            "Epoch 33/75\n",
            "75000/75000 [==============================] - 2s 26us/step - loss: 0.8160 - val_loss: 0.6917\n",
            "Epoch 34/75\n",
            "75000/75000 [==============================] - 2s 26us/step - loss: 0.8181 - val_loss: 0.6986\n",
            "Epoch 35/75\n",
            "75000/75000 [==============================] - 2s 25us/step - loss: 0.8171 - val_loss: 0.7003\n",
            "Epoch 36/75\n",
            "75000/75000 [==============================] - 2s 27us/step - loss: 0.8020 - val_loss: 0.6904\n",
            "Epoch 37/75\n",
            "75000/75000 [==============================] - 2s 26us/step - loss: 0.8132 - val_loss: 0.6930\n",
            "Epoch 38/75\n",
            "75000/75000 [==============================] - 2s 26us/step - loss: 0.8065 - val_loss: 0.6921\n",
            "Epoch 39/75\n",
            "75000/75000 [==============================] - 2s 27us/step - loss: 0.8097 - val_loss: 0.6958\n",
            "Epoch 40/75\n",
            "75000/75000 [==============================] - 2s 27us/step - loss: 0.8180 - val_loss: 0.7018\n",
            "Epoch 41/75\n",
            "75000/75000 [==============================] - 2s 27us/step - loss: 0.8165 - val_loss: 0.6969\n",
            "Epoch 42/75\n",
            "75000/75000 [==============================] - 2s 28us/step - loss: 0.8068 - val_loss: 0.7012\n",
            "Epoch 43/75\n",
            "75000/75000 [==============================] - 2s 26us/step - loss: 0.8118 - val_loss: 0.7060\n",
            "Epoch 44/75\n",
            "75000/75000 [==============================] - 2s 26us/step - loss: 0.8185 - val_loss: 0.7007\n",
            "Epoch 45/75\n",
            "75000/75000 [==============================] - 2s 28us/step - loss: 0.8144 - val_loss: 0.6950\n",
            "Epoch 46/75\n",
            "75000/75000 [==============================] - 2s 26us/step - loss: 0.8159 - val_loss: 0.7100\n",
            "Epoch 47/75\n",
            "75000/75000 [==============================] - 2s 25us/step - loss: 0.8130 - val_loss: 0.6958\n",
            "Epoch 48/75\n",
            "75000/75000 [==============================] - 2s 26us/step - loss: 0.8101 - val_loss: 0.6953\n",
            "Epoch 49/75\n",
            "75000/75000 [==============================] - 2s 26us/step - loss: 0.8130 - val_loss: 0.7018\n",
            "Epoch 50/75\n",
            "75000/75000 [==============================] - 2s 27us/step - loss: 0.8063 - val_loss: 0.6924\n",
            "Epoch 51/75\n",
            "75000/75000 [==============================] - 2s 30us/step - loss: 0.8131 - val_loss: 0.6903\n",
            "Epoch 52/75\n",
            "75000/75000 [==============================] - 2s 26us/step - loss: 0.8159 - val_loss: 0.7002\n",
            "Epoch 53/75\n",
            "75000/75000 [==============================] - 2s 26us/step - loss: 0.8045 - val_loss: 0.6888\n",
            "Epoch 54/75\n",
            "75000/75000 [==============================] - 2s 27us/step - loss: 0.8095 - val_loss: 0.6934\n",
            "Epoch 55/75\n",
            "75000/75000 [==============================] - 2s 27us/step - loss: 0.8063 - val_loss: 0.6994\n",
            "Epoch 56/75\n",
            "75000/75000 [==============================] - 2s 28us/step - loss: 0.8080 - val_loss: 0.6972\n",
            "Epoch 57/75\n",
            "75000/75000 [==============================] - 2s 28us/step - loss: 0.8136 - val_loss: 0.6989\n",
            "Epoch 58/75\n",
            "75000/75000 [==============================] - 2s 31us/step - loss: 0.8087 - val_loss: 0.7047\n",
            "Epoch 59/75\n",
            "75000/75000 [==============================] - 2s 27us/step - loss: 0.8110 - val_loss: 0.6939\n",
            "Epoch 60/75\n",
            "75000/75000 [==============================] - 2s 29us/step - loss: 0.8082 - val_loss: 0.7026\n",
            "Epoch 61/75\n",
            "75000/75000 [==============================] - 2s 28us/step - loss: 0.8116 - val_loss: 0.7042\n",
            "Epoch 62/75\n",
            "75000/75000 [==============================] - 2s 26us/step - loss: 0.8137 - val_loss: 0.7133\n",
            "Epoch 63/75\n",
            "75000/75000 [==============================] - 2s 27us/step - loss: 0.8097 - val_loss: 0.6933\n",
            "Epoch 64/75\n",
            "75000/75000 [==============================] - 2s 26us/step - loss: 0.8105 - val_loss: 0.6952\n",
            "Epoch 65/75\n",
            "75000/75000 [==============================] - 2s 26us/step - loss: 0.8152 - val_loss: 0.6988\n",
            "Epoch 66/75\n",
            "75000/75000 [==============================] - 2s 28us/step - loss: 0.8202 - val_loss: 0.6986\n",
            "Epoch 67/75\n",
            "75000/75000 [==============================] - 2s 25us/step - loss: 0.8217 - val_loss: 0.6992\n",
            "Epoch 68/75\n",
            "75000/75000 [==============================] - 2s 26us/step - loss: 0.8044 - val_loss: 0.7052\n",
            "Epoch 69/75\n",
            "75000/75000 [==============================] - 2s 26us/step - loss: 0.8101 - val_loss: 0.6908\n",
            "Epoch 70/75\n",
            "75000/75000 [==============================] - 2s 25us/step - loss: 0.8107 - val_loss: 0.6952\n",
            "Epoch 71/75\n",
            "75000/75000 [==============================] - 2s 26us/step - loss: 0.8103 - val_loss: 0.6990\n",
            "Epoch 72/75\n",
            "75000/75000 [==============================] - 2s 26us/step - loss: 0.8101 - val_loss: 0.6920\n",
            "Epoch 73/75\n",
            "75000/75000 [==============================] - 2s 25us/step - loss: 0.8165 - val_loss: 0.6942\n",
            "Epoch 74/75\n",
            "75000/75000 [==============================] - 2s 25us/step - loss: 0.8131 - val_loss: 0.6907\n",
            "Epoch 75/75\n",
            "75000/75000 [==============================] - 3s 40us/step - loss: 0.8119 - val_loss: 0.6954\n"
          ]
        },
        {
          "output_type": "execute_result",
          "data": {
            "text/plain": [
              "<keras.callbacks.callbacks.History at 0x7f9e3944f4d0>"
            ]
          },
          "metadata": {},
          "execution_count": 10
        }
      ],
      "source": [
        "# traning the autoencoder\n",
        "\n",
        "autoencoder.fit([data,noise], data,\n",
        "                epochs=75,\n",
        "                batch_size=int(M*5))"
      ]
    },
    {
      "cell_type": "code",
      "execution_count": 11,
      "metadata": {
        "id": "pDc4QGu_k1c2"
      },
      "outputs": [],
      "source": [
        "# isolating the encoder section from full autoencoder\n",
        "encoder = Model([input_signal,inputnoise], encoded3)"
      ]
    },
    {
      "cell_type": "code",
      "execution_count": 12,
      "metadata": {
        "id": "ufDQ_9vJk1c8"
      },
      "outputs": [],
      "source": [
        "# isolating the decoder section from full autoencoder\n",
        "encoded_input = Input(shape=(n_channel,))\n",
        "\n",
        "deco = autoencoder.layers[-2](encoded_input)\n",
        "deco = autoencoder.layers[-1](deco)\n",
        "decoder = Model(encoded_input, deco)"
      ]
    },
    {
      "cell_type": "code",
      "execution_count": 13,
      "metadata": {
        "id": "jV7rmDJfk1dA"
      },
      "outputs": [],
      "source": [
        "# Making test data\n",
        "Ntest = 50000\n",
        "test_label = np.random.randint(M,size=Ntest)\n",
        "test_data=np.zeros([Ntest,M])\n",
        "for i in range(len(test_label)):\n",
        "    test_data[i][label[i]] = 1"
      ]
    },
    {
      "cell_type": "code",
      "execution_count": 14,
      "metadata": {
        "colab": {
          "base_uri": "https://localhost:8080/"
        },
        "id": "wRzXGCbIk1dG",
        "outputId": "4496e943-e808-4e4a-dbb8-f4746d2d4a1a"
      },
      "outputs": [
        {
          "output_type": "stream",
          "name": "stdout",
          "text": [
            "(16, 1, 2)\n",
            "(16, 1, 2)\n"
          ]
        }
      ],
      "source": [
        "# for plotting learned constallation diagram\n",
        "scatter_plot = []\n",
        "scatter_plot_nn = []\n",
        "for i in range(0,M):\n",
        "    temp = np.zeros(M)\n",
        "    temp[i] = 1\n",
        "    scatter_plot.append(encoder.predict([np.expand_dims(temp,axis=0),np.random.normal(0,np.sqrt(1/(2*R*EbNo_train)),[1,2])]))\n",
        "    scatter_plot_nn.append(encoder.predict([np.expand_dims(temp,axis=0),np.random.normal(0,0.01,[1,2])]))\n",
        "    # print(np.expand_dims(temp,axis=0).shape)\n",
        "scatter_plot = np.array(scatter_plot)\n",
        "scatter_plot_nn = np.array(scatter_plot_nn)\n",
        "print(scatter_plot.shape)\n",
        "print(scatter_plot_nn.shape)"
      ]
    },
    {
      "cell_type": "code",
      "execution_count": 15,
      "metadata": {
        "colab": {
          "base_uri": "https://localhost:8080/",
          "height": 351
        },
        "id": "Q2yI90l6k1dP",
        "outputId": "abb3e078-def5-4545-d068-70aa7e234a15"
      },
      "outputs": [
        {
          "output_type": "display_data",
          "data": {
            "image/png": "[encoded data removed]",
            "text/plain": [
              "<Figure size 360x360 with 1 Axes>"
            ]
          },
          "metadata": {
            "needs_background": "light"
          }
        }
      ],
      "source": [
        "# # plotting constellation diagram\n",
        "import matplotlib.pyplot as plt\n",
        "'''Average Power Constraint'''\n",
        "plt.figure(figsize=(5, 5))\n",
        "plt.title(\"Constellation Map of Signals\\n Under Average Power Constraint\")\n",
        "scatter_plot_nn = scatter_plot_nn.reshape(M,2,1)\n",
        "plt.scatter(scatter_plot_nn[:,0],scatter_plot_nn[:,1])\n",
        "plt.axis((-2.5,2.5,-2.5,2.5))\n",
        "plt.grid()"
      ]
    },
    {
      "cell_type": "code",
      "source": [
        ""
      ],
      "metadata": {
        "id": "TGYWwqdYElb0"
      },
      "execution_count": null,
      "outputs": []
    }
  ],
  "metadata": {
    "accelerator": "TPU",
    "anaconda-cloud": {},
    "colab": {
      "collapsed_sections": [],
      "name": "Intro to DL for the Physical Layer_Autoencoder_Pentagon(Average Power)_Stable.ipynb",
      "provenance": [],
      "include_colab_link": true
    },
    "kernelspec": {
      "display_name": "Python 3",
      "language": "python",
      "name": "python3"
    },
    "language_info": {
      "codemirror_mode": {
        "name": "ipython",
        "version": 3
      },
      "file_extension": ".py",
      "mimetype": "text/x-python",
      "name": "python",
      "nbconvert_exporter": "python",
      "pygments_lexer": "ipython3",
      "version": "3.6.5"
    }
  },
  "nbformat": 4,
  "nbformat_minor": 0
}