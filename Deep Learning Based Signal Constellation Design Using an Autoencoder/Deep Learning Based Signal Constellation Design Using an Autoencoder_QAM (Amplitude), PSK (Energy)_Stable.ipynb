{
  "cells": [
    {
      "cell_type": "markdown",
      "metadata": {
        "id": "view-in-github",
        "colab_type": "text"
      },
      "source": [
        "<a href=\"https://colab.research.google.com/github/haseungchung/Machine-Learning-and-Deep-Learning-Projects/blob/main/Deep%20Learning%20Based%20Signal%20Constellation%20Design%20Using%20an%20Autoencoder/Deep%20Learning%20Based%20Signal%20Constellation%20Design%20Using%20an%20Autoencoder_QAM%20(Amplitude)%2C%20PSK%20(Energy)_Stable.ipynb\" target=\"_parent\"><img src=\"https://colab.research.google.com/assets/colab-badge.svg\" alt=\"Open In Colab\"/></a>"
      ]
    },
    {
      "cell_type": "code",
      "execution_count": 1,
      "metadata": {
        "id": "B2LJ49Q-k1b6"
      },
      "outputs": [],
      "source": [
        "# importing libs\n",
        "import numpy as np\n",
        "import tensorflow as tf\n",
        "import keras\n",
        "import pandas as pd\n",
        "import openpyxl\n",
        "from openpyxl.reader.excel import load_workbook\n",
        "from keras.layers import Input, Dense, GaussianNoise,Lambda,Dropout,Add,Concatenate\n",
        "from keras.models import Model\n",
        "from keras.constraints import max_norm\n",
        "from keras import regularizers\n",
        "from tensorflow.keras.layers import BatchNormalization\n",
        "from tensorflow.keras.optimizers import Adam,SGD\n",
        "from keras import backend as K\n",
        "from google.colab import files"
      ]
    },
    {
      "cell_type": "code",
      "execution_count": 2,
      "metadata": {
        "id": "3lYmlIiBk1cD"
      },
      "outputs": [],
      "source": [
        "# for reproducing result\n",
        "tf.random.set_seed(3)"
      ]
    },
    {
      "cell_type": "code",
      "execution_count": 3,
      "metadata": {
        "colab": {
          "base_uri": "https://localhost:8080/"
        },
        "id": "uxb5fCbTk1cG",
        "outputId": "9a71c8d8-07ed-46be-d54e-658d54c89012"
      },
      "outputs": [
        {
          "output_type": "stream",
          "name": "stdout",
          "text": [
            "M: 16 k: 4 n: 2\n"
          ]
        }
      ],
      "source": [
        "# defining parameters\n",
        "# define (n,k) here for (n,k) autoencoder\n",
        "# n = n_channel \n",
        "# k = log2(M)  ==> so for (7,4) autoencoder n_channel = 7 and M = 2^4 = 16 \n",
        "M = 16\n",
        "k = np.log2(M)\n",
        "k = int(k)\n",
        "n_channel = 2\n",
        "R = k/n_channel\n",
        "max_val=1\n",
        "print ('M:',M,'k:',k,'n:',n_channel)\n",
        "prop=250"
      ]
    },
    {
      "cell_type": "code",
      "execution_count": 4,
      "metadata": {
        "id": "oodKZ5rLk1cM"
      },
      "outputs": [],
      "source": [
        "#generating data of size N\n",
        "N = 1000000\n",
        "label = np.random.randint(M,size=N)"
      ]
    },
    {
      "cell_type": "code",
      "execution_count": 5,
      "metadata": {
        "id": "L68sasY0k1cR"
      },
      "outputs": [],
      "source": [
        "# creating one hot encoded vectors\n",
        "data=np.zeros([N,M])\n",
        "for i in range(len(label)):\n",
        "    data[i][label[i]] = 1\n",
        "\n",
        "\n",
        "EbNo_train = 10 #  coverted 10 db of EbNo\n",
        "noise=np.random.normal(0,np.sqrt(1/(2*R*EbNo_train)),[N,n_channel])"
      ]
    },
    {
      "cell_type": "code",
      "execution_count": 6,
      "metadata": {
        "colab": {
          "base_uri": "https://localhost:8080/"
        },
        "id": "BGSiDc0Mk1cd",
        "outputId": "233bb803-7e3e-44dc-f807-04621f7c54d8"
      },
      "outputs": [
        {
          "output_type": "stream",
          "name": "stdout",
          "text": [
            "Model: \"model\"\n",
            "__________________________________________________________________________________________________\n",
            " Layer (type)                   Output Shape         Param #     Connected to                     \n",
            "==================================================================================================\n",
            " input_1 (InputLayer)           [(None, 16)]         0           []                               \n",
            "                                                                                                  \n",
            " dense (Dense)                  (None, 16)           272         ['input_1[0][0]']                \n",
            "                                                                                                  \n",
            " dense_1 (Dense)                (None, 2)            34          ['dense[0][0]']                  \n",
            "                                                                                                  \n",
            " input_2 (InputLayer)           [(None, 2)]          0           []                               \n",
            "                                                                                                  \n",
            " dense_2 (Dense)                (None, 2)            6           ['dense_1[0][0]']                \n",
            "                                                                                                  \n",
            " add (Add)                      (None, 2)            0           ['input_2[0][0]',                \n",
            "                                                                  'dense_2[0][0]']                \n",
            "                                                                                                  \n",
            " dense_3 (Dense)                (None, 16)           48          ['add[0][0]']                    \n",
            "                                                                                                  \n",
            " dense_4 (Dense)                (None, 16)           272         ['dense_3[0][0]']                \n",
            "                                                                                                  \n",
            "==================================================================================================\n",
            "Total params: 632\n",
            "Trainable params: 632\n",
            "Non-trainable params: 0\n",
            "__________________________________________________________________________________________________\n",
            "None\n"
          ]
        }
      ],
      "source": [
        "''' a custom activation function for amplitude constraint (~QAM style)'''\n",
        "def mapping_to_target_range( x, target_min=-np.sqrt(max_val), target_max=np.sqrt(max_val) ) :\n",
        "    x02 = K.tanh(x)+1 # x in range(0,2)\n",
        "    scale = ( target_max-target_min )/2.\n",
        "    return  x02 * scale + target_min\n",
        "\n",
        "'''a custom loss function for the average power constraint (~unique result)'''\n",
        "def custom_loss(signal):\n",
        "    def loss(y_true, y_pred):\n",
        "        sqsig=tf.math.square(signal)\n",
        "        bound=tf.convert_to_tensor(max_val, dtype=float)\n",
        "        sigenergy=tf.convert_to_tensor(tf.math.reduce_sum(sqsig),float)\n",
        "        # sloss = tf.keras.backend.switch(tf.math.greater((tf.keras.backend.sum(tf.keras.backend.square(signal))),tf.keras.backend.constant(max_val)),tf.keras.backend.sum(tf.keras.backend.square(signal))-tf.keras.backend.constant(max_val),tf.keras.backend.constant(0))\n",
        "        # return sloss/prop+keras.losses.categorical_crossentropy(y_true, y_pred)\n",
        "        # sloss = tf.(tf.math.square(signal))-tf.convert_to_tensor(max_val) if tf.keras.metrics.Sum(tf.math.square(signal)) > tf.convert_to_tensor(max_val) else tf.convert_to_tensor(0)\n",
        "        return sigenergy+tf.convert_to_tensor(max_val, dtype=float) + keras.losses.categorical_crossentropy(y_true, y_pred)\n",
        "    return loss\n",
        "\n",
        "# defining autoencoder and its layer\n",
        "input_signal = Input(shape=(M,))\n",
        "encoded = Dense(M, activation='relu')(input_signal)\n",
        "encoded1 = Dense(n_channel, activation='linear')(encoded)\n",
        "# encoded2 = Dense(n_channel, activation='relu')(encoded1) #average power\n",
        "encoded2 = Dense(n_channel, activation=mapping_to_target_range)(encoded1) #QAM style\n",
        "''' an activation function for energy constraint (~PSK style)'''\n",
        "# encoded2 = Lambda(lambda x: np.sqrt(n_channel)*K.l2_normalize(x,axis=1))(encoded1) #only implement for the energy constraint\n",
        "\n",
        "inputnoise = Input(shape=(n_channel,))\n",
        "encoded3 = Add()([inputnoise,encoded2])\n",
        "\n",
        "decoded = Dense(M, activation='relu')(encoded3)\n",
        "decoded1 = Dense(M, activation='softmax')(decoded)\n",
        "autoencoder = Model([input_signal,inputnoise], decoded1)\n",
        "adam = Adam(learning_rate=0.001)\n",
        "# autoencoder.compile(optimizer=adam, loss=custom_loss(encoded2)) #only implement for average power constraint\n",
        "autoencoder.compile(optimizer=adam, loss='categorical_crossentropy') #loss for every other constraint\n",
        "# autoencoder summary\n",
        "print (autoencoder.summary())"
      ]
    },
    {
      "cell_type": "code",
      "execution_count": null,
      "metadata": {
        "id": "29wApxngk1cr",
        "scrolled": true
      },
      "outputs": [],
      "source": [
        "# traning the autoencoder\n",
        "autoencoder.fit([data, noise], data, epochs=3, batch_size=M*1)\n",
        "autoencoder.fit([data, noise], data, epochs=25, batch_size=M*16)\n",
        "autoencoder.fit([data,noise], data, epochs=50, batch_size=M*256)"
      ]
    },
    {
      "cell_type": "code",
      "execution_count": 8,
      "metadata": {
        "id": "pDc4QGu_k1c2"
      },
      "outputs": [],
      "source": [
        "# isolating the encoder section from full autoencoder\n",
        "encoder = Model([input_signal,inputnoise], encoded3)"
      ]
    },
    {
      "cell_type": "code",
      "execution_count": 9,
      "metadata": {
        "id": "ufDQ_9vJk1c8"
      },
      "outputs": [],
      "source": [
        "# isolating the decoder section from full autoencoder\n",
        "encoded_input = Input(shape=(n_channel,))\n",
        "\n",
        "deco = autoencoder.layers[-2](encoded_input)\n",
        "deco = autoencoder.layers[-1](deco)\n",
        "decoder = Model(encoded_input, deco)"
      ]
    },
    {
      "cell_type": "code",
      "execution_count": 10,
      "metadata": {
        "id": "jV7rmDJfk1dA"
      },
      "outputs": [],
      "source": [
        "# Making test data\n",
        "Ntest = 50000\n",
        "test_label = np.random.randint(M,size=Ntest)\n",
        "test_data=np.zeros([Ntest,M])\n",
        "for i in range(len(test_label)):\n",
        "    test_data[i][label[i]] = 1"
      ]
    },
    {
      "cell_type": "code",
      "execution_count": 11,
      "metadata": {
        "id": "wRzXGCbIk1dG",
        "colab": {
          "base_uri": "https://localhost:8080/"
        },
        "outputId": "4c273115-e98e-4f0c-cdc9-655950162e64"
      },
      "outputs": [
        {
          "output_type": "stream",
          "name": "stdout",
          "text": [
            "(16, 1, 2)\n",
            "(16, 1, 2)\n"
          ]
        }
      ],
      "source": [
        "# for plotting learned constellation diagram\n",
        "scatter_plot = []\n",
        "scatter_plot_nn = []\n",
        "for i in range(0,M):\n",
        "    temp = np.zeros(M)\n",
        "    temp[i] = 1\n",
        "    scatter_plot.append(encoder.predict([np.expand_dims(temp,axis=0),np.random.normal(0,np.sqrt(1/(2*R*EbNo_train)),[1,2])]))\n",
        "    scatter_plot_nn.append(encoder.predict([np.expand_dims(temp,axis=0),np.random.normal(0,0.01,[1,2])]))\n",
        "    # print(np.expand_dims(temp,axis=0).shape)\n",
        "scatter_plot = np.array(scatter_plot)\n",
        "scatter_plot_nn = np.array(scatter_plot_nn)\n",
        "print(scatter_plot.shape)\n",
        "print(scatter_plot_nn.shape)"
      ]
    },
    {
      "cell_type": "code",
      "execution_count": 12,
      "metadata": {
        "id": "Q2yI90l6k1dP",
        "colab": {
          "base_uri": "https://localhost:8080/",
          "height": 351
        },
        "outputId": "a5332f56-1503-49d3-82e0-b97e50dfc79c"
      },
      "outputs": [
        {
          "output_type": "display_data",
          "data": {
            "image/png": "[encoded data removed]",
            "text/plain": [
              "<Figure size 360x360 with 1 Axes>"
            ]
          },
          "metadata": {
            "needs_background": "light"
          }
        }
      ],
      "source": [
        "# # plotting constellation diagram\n",
        "import matplotlib.pyplot as plt\n",
        "'''Amplitude Constraint'''\n",
        "plt.figure(figsize=(5, 5))\n",
        "plt.title(\"Constellation Map of Signals\\n Under Amplitude Constraint\")\n",
        "scatter_plot_nn = scatter_plot_nn.reshape(M,2,1)\n",
        "plt.scatter(scatter_plot_nn[:,0],scatter_plot_nn[:,1])\n",
        "plt.axis((-2.5,2.5,-2.5,2.5))\n",
        "plt.grid()"
      ]
    },
    {
      "cell_type": "code",
      "execution_count": null,
      "metadata": {
        "colab": {
          "base_uri": "https://localhost:8080/",
          "height": 351
        },
        "id": "Q3p2K_5EnmEd",
        "outputId": "23062096-185d-471d-8a79-05993661a978"
      },
      "outputs": [
        {
          "output_type": "display_data",
          "data": {
            "image/png": "[encoded data removed]",
            "text/plain": [
              "<Figure size 360x360 with 1 Axes>"
            ]
          },
          "metadata": {
            "needs_background": "light"
          }
        }
      ],
      "source": [
        "'''Energy Constraint'''\n",
        "plt.figure(figsize=(5, 5))\n",
        "plt.title(\"Constellation Map of Signals\\n Under Energy Constraint\")\n",
        "scatter_plot_nn = scatter_plot_nn.reshape(M,2,1)\n",
        "plt.scatter(scatter_plot_nn[:,0],scatter_plot_nn[:,1])\n",
        "plt.axis((-2.5,2.5,-2.5,2.5))\n",
        "plt.grid()"
      ]
    },
    {
      "cell_type": "code",
      "source": [
        ""
      ],
      "metadata": {
        "id": "TGYWwqdYElb0"
      },
      "execution_count": null,
      "outputs": []
    }
  ],
  "metadata": {
    "accelerator": "TPU",
    "anaconda-cloud": {},
    "colab": {
      "collapsed_sections": [],
      "name": "Intro to DL for the Physical Layer_Autoencoder_QAM (Amplitude), PSK (Energy)_Stable.ipynb",
      "provenance": [],
      "include_colab_link": true
    },
    "kernelspec": {
      "display_name": "Python 3",
      "language": "python",
      "name": "python3"
    },
    "language_info": {
      "codemirror_mode": {
        "name": "ipython",
        "version": 3
      },
      "file_extension": ".py",
      "mimetype": "text/x-python",
      "name": "python",
      "nbconvert_exporter": "python",
      "pygments_lexer": "ipython3",
      "version": "3.6.5"
    }
  },
  "nbformat": 4,
  "nbformat_minor": 0
}